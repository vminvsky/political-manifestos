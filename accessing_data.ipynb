{
 "cells": [
  {
   "cell_type": "code",
   "execution_count": 17,
   "metadata": {},
   "outputs": [],
   "source": [
    "import pandas as pd \n",
    "import requests\n",
    "import json\n"
   ]
  },
  {
   "cell_type": "code",
   "execution_count": 5,
   "metadata": {},
   "outputs": [],
   "source": [
    "API_key = \"5786cd713992d89f50a96d6c7495748f\"\n",
    "id_core = \"MPDS2020b\"\n",
    "id_metadata = \"2020-2\""
   ]
  },
  {
   "cell_type": "markdown",
   "metadata": {},
   "source": [
    "## Data core consists of all the features created. Let's first access every single document they coded."
   ]
  },
  {
   "cell_type": "code",
   "execution_count": 11,
   "metadata": {},
   "outputs": [],
   "source": [
    "data_core = requests.get(\"https://manifesto-project.wzb.eu/api/v1/get_core?key=MPDS2020b&api_key={}\".format(API_key)).text"
   ]
  },
  {
   "cell_type": "code",
   "execution_count": 25,
   "metadata": {},
   "outputs": [],
   "source": [
    "df_core = pd.read_json(data_core)\n",
    "df_core.columns = df_core.iloc[0]\n",
    "df_core.drop(0, inplace=True)"
   ]
  },
  {
   "cell_type": "markdown",
   "metadata": {},
   "source": [
    "We now restrict to Canada, United States, and United Kingdom"
   ]
  },
  {
   "cell_type": "code",
   "execution_count": 35,
   "metadata": {},
   "outputs": [],
   "source": [
    "english_core = df_core[df_core['countryname'].isin(['Canada','United States','United Kingdom'])]\n"
   ]
  },
  {
   "cell_type": "code",
   "execution_count": 44,
   "metadata": {
    "collapsed": true
   },
   "outputs": [
    {
     "name": "stderr",
     "output_type": "stream",
     "text": [
      "<ipython-input-44-1593b6745c26>:1: SettingWithCopyWarning: \n",
      "A value is trying to be set on a copy of a slice from a DataFrame.\n",
      "Try using .loc[row_indexer,col_indexer] = value instead\n",
      "\n",
      "See the caveats in the documentation: https://pandas.pydata.org/pandas-docs/stable/user_guide/indexing.html#returning-a-view-versus-a-copy\n",
      "  english_core['key'] = english_core['party'] + \"_\" + english_core['date']\n"
     ]
    }
   ],
   "source": [
    "english_core['key'] = english_core['party'] + \"_\" + english_core['date']"
   ]
  },
  {
   "cell_type": "code",
   "execution_count": 149,
   "metadata": {},
   "outputs": [],
   "source": [
    "english_core.to_csv(\"english_core.csv\",index=False)"
   ]
  },
  {
   "cell_type": "markdown",
   "metadata": {},
   "source": [
    "Here I create one long string that I'll later add to the get request. "
   ]
  },
  {
   "cell_type": "code",
   "execution_count": 51,
   "metadata": {},
   "outputs": [],
   "source": [
    "key_string = \"\"\n",
    "keys = english_core['key'].values\n",
    "for i, key in enumerate(keys):\n",
    "    if i == len(keys) - 1:\n",
    "        key_string += \"keys[]=\" + key\n",
    "    else:\n",
    "        key_string += \"keys[]=\" + key + \"&\"\n",
    "    "
   ]
  },
  {
   "cell_type": "markdown",
   "metadata": {},
   "source": [
    "## We need to now access the metadata"
   ]
  },
  {
   "cell_type": "code",
   "execution_count": 52,
   "metadata": {},
   "outputs": [],
   "source": [
    "english_metadata = requests.get(\"https://manifesto-project.wzb.eu/api/v1/metadata?{}&api_key={}&version=2020-2\".format(key_string, API_key)).text"
   ]
  },
  {
   "cell_type": "code",
   "execution_count": null,
   "metadata": {},
   "outputs": [],
   "source": [
    "df_metadata = pd.DataFrame()\n",
    "metadata = json.loads(english_metadata)['items']\n",
    "\n",
    "for k in metadata:\n",
    "    df_metadata = df_metadata.append(pd.DataFrame.from_dict(k,orient='index').T)"
   ]
  },
  {
   "cell_type": "code",
   "execution_count": null,
   "metadata": {},
   "outputs": [],
   "source": [
    "df_metadata['key'] = df_metadata['party_id'].astype(str) + \"_\" + df_metadata['election_date'].astype(str)"
   ]
  },
  {
   "cell_type": "code",
   "execution_count": 151,
   "metadata": {},
   "outputs": [],
   "source": [
    "df_metadata.to_csv(\"english_metadata.csv\", index=False)"
   ]
  },
  {
   "cell_type": "markdown",
   "metadata": {},
   "source": [
    "## Now we can finally get the text"
   ]
  },
  {
   "cell_type": "code",
   "execution_count": 59,
   "metadata": {},
   "outputs": [],
   "source": [
    "english_text = requests.get(\"https://manifesto-project.wzb.eu/api/v1/texts_and_annotations?{}&api_key={}&version=2020-2\".format(key_string, API_key)).text"
   ]
  },
  {
   "cell_type": "code",
   "execution_count": 63,
   "metadata": {},
   "outputs": [],
   "source": [
    "english_text_json = json.loads(english_text)"
   ]
  },
  {
   "cell_type": "code",
   "execution_count": 108,
   "metadata": {},
   "outputs": [],
   "source": [
    "dic = {}\n",
    "for j in english_text_json['items']:\n",
    "    string = \"\"\n",
    "    for k in j['items']:\n",
    "             string += k['text'] + \" \"\n",
    "    dic.update({j['key']:string})"
   ]
  },
  {
   "cell_type": "code",
   "execution_count": 113,
   "metadata": {},
   "outputs": [],
   "source": [
    "text_data = pd.DataFrame.from_dict(dic, orient='index', columns = ['text'])"
   ]
  },
  {
   "cell_type": "code",
   "execution_count": 153,
   "metadata": {},
   "outputs": [],
   "source": [
    "text_data.reset_index(inplace = True)\n",
    "text_data.columns = ['key','text']"
   ]
  },
  {
   "cell_type": "code",
   "execution_count": 155,
   "metadata": {},
   "outputs": [],
   "source": [
    "text_data.to_csv(\"english_text.csv\", index=False)"
   ]
  },
  {
   "cell_type": "code",
   "execution_count": null,
   "metadata": {},
   "outputs": [],
   "source": []
  },
  {
   "cell_type": "code",
   "execution_count": null,
   "metadata": {},
   "outputs": [],
   "source": []
  }
 ],
 "metadata": {
  "kernelspec": {
   "display_name": "Python 3",
   "language": "python",
   "name": "python3"
  },
  "language_info": {
   "codemirror_mode": {
    "name": "ipython",
    "version": 3
   },
   "file_extension": ".py",
   "mimetype": "text/x-python",
   "name": "python",
   "nbconvert_exporter": "python",
   "pygments_lexer": "ipython3",
   "version": "3.8.5"
  }
 },
 "nbformat": 4,
 "nbformat_minor": 4
}
