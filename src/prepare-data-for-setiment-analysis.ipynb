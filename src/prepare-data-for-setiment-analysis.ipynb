{
 "cells": [
  {
   "cell_type": "code",
   "execution_count": 2,
   "metadata": {},
   "outputs": [],
   "source": [
    "import pandas as pd \n",
    "import os\n",
    "\n",
    "os.chdir(\"C:/Users/Venia/Desktop/political-manifestos\")\n",
    "# prepare for sentiment analysis\n",
    "didar = pd.read_csv(\"cleaned_manifesto_usa_duplicated1.csv\")\n",
    "didar.drop(['Unnamed: 0', 'Unnamed: 0.1', 'Unnamed: 0.1.1','Unnamed: 0.1.1.1','Unnamed: 0.1.1.1.1'],axis=1,inplace=True)\n",
    "didar['tokenized'] = didar['text_cleaned'].apply(lambda x: x.split(' '))\n",
    "didar['key2'] = didar['key'] +\"_\" + [str(k) for k in didar.index]\n",
    "didar[['key','countryname','edate','tokenized', 'key2','partyname']].explode('tokenized').to_csv(\"for_sentiment_analysis.csv\")"
   ]
  },
  {
   "cell_type": "code",
   "execution_count": null,
   "metadata": {},
   "outputs": [],
   "source": []
  }
 ],
 "metadata": {
  "kernelspec": {
   "display_name": "Python 3",
   "language": "python",
   "name": "python3"
  },
  "language_info": {
   "codemirror_mode": {
    "name": "ipython",
    "version": 3
   },
   "file_extension": ".py",
   "mimetype": "text/x-python",
   "name": "python",
   "nbconvert_exporter": "python",
   "pygments_lexer": "ipython3",
   "version": "3.8.5"
  }
 },
 "nbformat": 4,
 "nbformat_minor": 4
}
