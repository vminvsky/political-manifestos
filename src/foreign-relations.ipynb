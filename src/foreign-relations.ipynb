{
 "cells": [
  {
   "cell_type": "markdown",
   "metadata": {},
   "source": [
    "We first used Wikidata to create a dataset of countries and their demonyms."
   ]
  },
  {
   "cell_type": "code",
   "execution_count": null,
   "metadata": {},
   "outputs": [],
   "source": [
    "\"\"\"\n",
    "QUERY FOR COUNTRY NAMES, CAPITALS, AND DEMONYNMS \n",
    "\n",
    "#List of present-day countries and capital(s)\n",
    "SELECT DISTINCT ?country ?countryLabel ?capital ?capitalLabel ?demonym\n",
    "WHERE\n",
    "{\n",
    "  ?country wdt:P31 wd:Q3624078 .\n",
    "  #not a former country\n",
    "  FILTER NOT EXISTS {?country wdt:P31 wd:Q3024240}\n",
    "  #and no an ancient civilisation (needed to exclude ancient Egypt)\n",
    "  FILTER NOT EXISTS {?country wdt:P31 wd:Q28171280}\n",
    "  ?language wdt:P218 'sv'.\n",
    "  OPTIONAL { ?country wdt:P36 ?capital }\n",
    "  ?country wdt:P1549 ?demonym FILTER (lang(?demonym) = \"en\").\n",
    "  SERVICE wikibase:label { bd:serviceParam wikibase:language \"en\". }\n",
    "}\n",
    "ORDER BY ?countryLabel\"\"\""
   ]
  },
  {
   "cell_type": "code",
   "execution_count": null,
   "metadata": {},
   "outputs": [],
   "source": [
    "import pandas as pd\n",
    "import numpy as np\n",
    "import os\n",
    "from sklearn.metrics import pairwise\n",
    "\n",
    "\n",
    "os.chdir('C:/Users/Venia/Desktop/political-manifestos')\n",
    "text=pd.read_csv(\"data/english_text.csv\")\n",
    "core = pd.read_csv(\"data/english_core.csv\")\n",
    "metadata = pd.read_csv(\"data/english_metadata.csv\")\n",
    "\n",
    "metadata['language'] = metadata['language'].fillna(\"english\")\n",
    "french_keys = metadata[metadata['language']=='french']['key'].values\n",
    "\n",
    "words_to_remove = ['canada','canadians','america','americans','britain']\n",
    "country_list = ['Canada','United Kingdom','United States']\n",
    "\n",
    "df = pd.merge(text,core, on = 'key')\n",
    "df = df[~df['key'].isin(french_keys)]"
   ]
  },
  {
   "cell_type": "code",
   "execution_count": 92,
   "metadata": {},
   "outputs": [],
   "source": [
    "from string import punctuation, digits\n",
    "import re\n",
    "\n",
    "def clean_text(x):\n",
    "    x = x.lower()\n",
    "    x = x.replace(\"\\n\", \" \")\n",
    "    x = x.replace('\\t', ' ')\n",
    "    x = x.replace(\"\\'\", '')\n",
    "    x=x.strip()\n",
    "    remove_digits = str.maketrans('', '', digits)\n",
    "    regex = re.compile('[%s]' % re.escape(punctuation))\n",
    "    x = regex.sub('', x)\n",
    "    x = x.translate(remove_digits)\n",
    "    return x \n",
    "    "
   ]
  },
  {
   "cell_type": "code",
   "execution_count": 93,
   "metadata": {},
   "outputs": [],
   "source": [
    "df['text_clean'] = df['text'].apply(lambda x: clean_text(x))"
   ]
  },
  {
   "cell_type": "code",
   "execution_count": 105,
   "metadata": {},
   "outputs": [],
   "source": [
    "\n",
    "country_names = pd.read_csv(\"country_names.csv\")\n",
    "country_names = country_names[['countryLabel','capitalLabel','demonym']]\n",
    "countries = country_names[['countryLabel','demonym']].drop_duplicates().reset_index()\n",
    "demonyms = countries.groupby('countryLabel')['demonym'].apply(list).reset_index()\n",
    "demonyms['list'] = demonyms.apply(lambda x: [x['countryLabel']] + x['demonym'], axis =1)\n",
    "demonyms['list'] = demonyms['list'].apply(lambda x: [k.lower() for k in x])\n",
    "\n",
    "import nltk\n",
    "from nltk.corpus import stopwords\n",
    "stop = stopwords.words('english')\n",
    "pat = r'\\b(?:{})\\b'.format('|'.join(stop))\n",
    "df['text_clean_no_stop'] = df['text_clean'].str.replace(pat,'')\n",
    "df['text_clean_no_stop'] = df['text_clean_no_stop'].str.replace(' +', ' ')\n",
    "df['text_clean_no_stop'] = df['text_clean_no_stop'].apply(lambda x: x[1:] if x[0] == ' ' else x)\n",
    "df['tokenized']=df['text_clean_no_stop'].apply(lambda x: x.split(' '))\n",
    "countries = demonyms['list'].apply(lambda x: x[0]).values\n"
   ]
  },
  {
   "cell_type": "code",
   "execution_count": null,
   "metadata": {},
   "outputs": [],
   "source": []
  },
  {
   "cell_type": "code",
   "execution_count": 107,
   "metadata": {},
   "outputs": [],
   "source": [
    "for row in demonyms['list']:\n",
    "    df[row[0]] = 0 \n",
    "for row in demonyms['list']:\n",
    "    country = row[0]\n",
    "    for val in row:\n",
    "        df[country] += df['tokenized'].apply(lambda x: x.count(val))"
   ]
  },
  {
   "cell_type": "code",
   "execution_count": 108,
   "metadata": {},
   "outputs": [],
   "source": [
    "df['year'] = df['date'].apply(lambda x: str(x)[0:4])\n",
    "country= df[df['countryname'] == 'United States']"
   ]
  },
  {
   "cell_type": "code",
   "execution_count": null,
   "metadata": {},
   "outputs": [],
   "source": []
  },
  {
   "cell_type": "code",
   "execution_count": 194,
   "metadata": {},
   "outputs": [],
   "source": [
    "def context_windows(country_df, country_name, n=4):\n",
    "    list_of_instances = []\n",
    "    metadata_list = []\n",
    "    for i,j in country[['tokenized','countryname','date','partyname']].iterrows():\n",
    "        metadata = j[['countryname','date','partyname']].values\n",
    "        indices = [k for k, x in enumerate(j['tokenized']) if x == country_name]\n",
    "        for i in indices:\n",
    "            list_of_instances.append([k for k in j['tokenized'][i-n:i+n] if k != country_name])\n",
    "            metadata_list.append(list(metadata))\n",
    "    list_exploded = [k for j in list_of_instances for k in j]\n",
    "    return metadata_list, list_of_instances, list_exploded"
   ]
  },
  {
   "cell_type": "code",
   "execution_count": 219,
   "metadata": {},
   "outputs": [],
   "source": [
    "metadata, list_of_contexts, list_exploded = context_windows(country,'iraq')"
   ]
  },
  {
   "cell_type": "code",
   "execution_count": 220,
   "metadata": {},
   "outputs": [],
   "source": [
    "def top_words(list_exploded):\n",
    "    word_count  = {}\n",
    "    for val in list_exploded:\n",
    "        if val in word_count.keys():\n",
    "            word_count[val] += 1\n",
    "        else:\n",
    "            word_count.update({val: 1})\n",
    "    sorted_dict = dict(sorted(word_count.items(), key = lambda item:item[1], reverse=True))\n",
    "    return sorted_dict"
   ]
  },
  {
   "cell_type": "code",
   "execution_count": 221,
   "metadata": {},
   "outputs": [],
   "source": [
    "country_words = top_words(list_exploded)"
   ]
  },
  {
   "cell_type": "code",
   "execution_count": 222,
   "metadata": {},
   "outputs": [],
   "source": [
    "country_contexts = pd.DataFrame(metadata,columns = ['country','date','party'])\n",
    "country_contexts['contexts'] = list_of_contexts"
   ]
  },
  {
   "cell_type": "code",
   "execution_count": 223,
   "metadata": {},
   "outputs": [],
   "source": [
    "election_words = country_contexts.groupby(['date', 'party'])['contexts'].apply(sum)\n",
    "# election_words = country_contexts.groupby(['party'])['contexts'].apply(sum)"
   ]
  },
  {
   "cell_type": "code",
   "execution_count": 224,
   "metadata": {},
   "outputs": [],
   "source": [
    "from collections import Counter\n",
    "election_words = election_words.apply(lambda x: Counter(x))"
   ]
  },
  {
   "cell_type": "code",
   "execution_count": 225,
   "metadata": {},
   "outputs": [],
   "source": [
    "election_words = election_words.apply(lambda x: dict(sorted(x.items(), key = lambda item:item[1], reverse=True)))"
   ]
  },
  {
   "cell_type": "code",
   "execution_count": 226,
   "metadata": {},
   "outputs": [],
   "source": [
    "from itertools import islice\n",
    "top_election_words = election_words.apply(lambda x: [k[0] for k in list(islice(x.items(), 4))])"
   ]
  },
  {
   "cell_type": "code",
   "execution_count": 227,
   "metadata": {},
   "outputs": [
    {
     "data": {
      "text/html": [
       "<div>\n",
       "<style scoped>\n",
       "    .dataframe tbody tr th:only-of-type {\n",
       "        vertical-align: middle;\n",
       "    }\n",
       "\n",
       "    .dataframe tbody tr th {\n",
       "        vertical-align: top;\n",
       "    }\n",
       "\n",
       "    .dataframe thead th {\n",
       "        text-align: right;\n",
       "    }\n",
       "</style>\n",
       "<table border=\"1\" class=\"dataframe\">\n",
       "  <thead>\n",
       "    <tr style=\"text-align: right;\">\n",
       "      <th></th>\n",
       "      <th>date</th>\n",
       "      <th>party</th>\n",
       "      <th>contexts</th>\n",
       "    </tr>\n",
       "  </thead>\n",
       "  <tbody>\n",
       "    <tr>\n",
       "      <th>0</th>\n",
       "      <td>199211</td>\n",
       "      <td>Republican Party</td>\n",
       "      <td>[president, bush, quagmire, indefinite]</td>\n",
       "    </tr>\n",
       "    <tr>\n",
       "      <th>1</th>\n",
       "      <td>199611</td>\n",
       "      <td>Democratic Party</td>\n",
       "      <td>[iran, delivery, nuclear, weapons]</td>\n",
       "    </tr>\n",
       "    <tr>\n",
       "      <th>2</th>\n",
       "      <td>199611</td>\n",
       "      <td>Republican Party</td>\n",
       "      <td>[iran, syria, libya, north]</td>\n",
       "    </tr>\n",
       "    <tr>\n",
       "      <th>3</th>\n",
       "      <td>200011</td>\n",
       "      <td>Democratic Party</td>\n",
       "      <td>[mass, destruction, delivery, systems]</td>\n",
       "    </tr>\n",
       "    <tr>\n",
       "      <th>4</th>\n",
       "      <td>200011</td>\n",
       "      <td>Republican Party</td>\n",
       "      <td>[friends, community, long, also]</td>\n",
       "    </tr>\n",
       "    <tr>\n",
       "      <th>5</th>\n",
       "      <td>200411</td>\n",
       "      <td>Democratic Party</td>\n",
       "      <td>[administration, war, afghanistan, challenges]</td>\n",
       "    </tr>\n",
       "    <tr>\n",
       "      <th>6</th>\n",
       "      <td>200411</td>\n",
       "      <td>Republican Party</td>\n",
       "      <td>[afghanistan, nations, america, forces]</td>\n",
       "    </tr>\n",
       "    <tr>\n",
       "      <th>7</th>\n",
       "      <td>200811</td>\n",
       "      <td>Democratic Party</td>\n",
       "      <td>[war, ending, end, responsibly]</td>\n",
       "    </tr>\n",
       "    <tr>\n",
       "      <th>8</th>\n",
       "      <td>200811</td>\n",
       "      <td>Republican Party</td>\n",
       "      <td>[offer, special, circumstances, conflict]</td>\n",
       "    </tr>\n",
       "    <tr>\n",
       "      <th>9</th>\n",
       "      <td>201211</td>\n",
       "      <td>Democratic Party</td>\n",
       "      <td>[war, responsibly, forces, charting]</td>\n",
       "    </tr>\n",
       "    <tr>\n",
       "      <th>10</th>\n",
       "      <td>201211</td>\n",
       "      <td>Republican Party</td>\n",
       "      <td>[afghanistan, country, provide, nature]</td>\n",
       "    </tr>\n",
       "    <tr>\n",
       "      <th>11</th>\n",
       "      <td>201611</td>\n",
       "      <td>Democratic Party</td>\n",
       "      <td>[syria, partners, destroy, isis’]</td>\n",
       "    </tr>\n",
       "    <tr>\n",
       "      <th>12</th>\n",
       "      <td>201611</td>\n",
       "      <td>Republican Party</td>\n",
       "      <td>[afghanistan, support, force, guard]</td>\n",
       "    </tr>\n",
       "  </tbody>\n",
       "</table>\n",
       "</div>"
      ],
      "text/plain": [
       "      date             party                                        contexts\n",
       "0   199211  Republican Party         [president, bush, quagmire, indefinite]\n",
       "1   199611  Democratic Party              [iran, delivery, nuclear, weapons]\n",
       "2   199611  Republican Party                     [iran, syria, libya, north]\n",
       "3   200011  Democratic Party          [mass, destruction, delivery, systems]\n",
       "4   200011  Republican Party                [friends, community, long, also]\n",
       "5   200411  Democratic Party  [administration, war, afghanistan, challenges]\n",
       "6   200411  Republican Party         [afghanistan, nations, america, forces]\n",
       "7   200811  Democratic Party                 [war, ending, end, responsibly]\n",
       "8   200811  Republican Party       [offer, special, circumstances, conflict]\n",
       "9   201211  Democratic Party            [war, responsibly, forces, charting]\n",
       "10  201211  Republican Party         [afghanistan, country, provide, nature]\n",
       "11  201611  Democratic Party               [syria, partners, destroy, isis’]\n",
       "12  201611  Republican Party            [afghanistan, support, force, guard]"
      ]
     },
     "execution_count": 227,
     "metadata": {},
     "output_type": "execute_result"
    }
   ],
   "source": [
    "top_election_words.reset_index()"
   ]
  },
  {
   "cell_type": "code",
   "execution_count": null,
   "metadata": {},
   "outputs": [],
   "source": []
  },
  {
   "cell_type": "markdown",
   "metadata": {},
   "source": [
    "## Sentiment analysis\n",
    "Understand which election was most positive towards which countries"
   ]
  },
  {
   "cell_type": "code",
   "execution_count": 120,
   "metadata": {},
   "outputs": [],
   "source": [
    "from nltk.sentiment.vader import SentimentIntensityAnalyzer\n",
    "sid = SentimentIntensityAnalyzer()\n",
    "sentiment = top_election_words.explode().apply(sid.polarity_scores).apply(lambda x: x['compound'])"
   ]
  },
  {
   "cell_type": "code",
   "execution_count": 125,
   "metadata": {},
   "outputs": [],
   "source": [
    "df = pd.read_csv(\"for_sentiment_analysis.csv\")\n",
    "sentiment_scores = pd.read_excel(\"sentiment_values_with_topics.xlsx\")"
   ]
  },
  {
   "cell_type": "code",
   "execution_count": 126,
   "metadata": {},
   "outputs": [],
   "source": [
    "sentiment = sentiment.reset_index().groupby(['date','party'])['contexts'].mean()"
   ]
  },
  {
   "cell_type": "code",
   "execution_count": 127,
   "metadata": {},
   "outputs": [],
   "source": [
    "sentiment = df['tokenized'].apply(sid.polarity_scores).apply(lambda x: x['compound'])"
   ]
  },
  {
   "cell_type": "code",
   "execution_count": null,
   "metadata": {},
   "outputs": [],
   "source": []
  },
  {
   "cell_type": "code",
   "execution_count": 137,
   "metadata": {},
   "outputs": [],
   "source": [
    "topic_list = []\n",
    "for i in range(22):\n",
    "    topic_list.append({'topic_id': i+1, 'topic': \"\"})"
   ]
  },
  {
   "cell_type": "code",
   "execution_count": null,
   "metadata": {},
   "outputs": [],
   "source": []
  },
  {
   "cell_type": "code",
   "execution_count": 138,
   "metadata": {},
   "outputs": [],
   "source": [
    "topic_info = [{'topic_id': 1, 'topic': 'care, health, patient'},\n",
    " {'topic_id': 2, 'topic': 'nuclear, weapon, security'},\n",
    " {'topic_id': 3, 'topic': 'right, marriage, state'},\n",
    " {'topic_id': 4, 'topic': 'energies, technology,climate'},\n",
    " {'topic_id': 5, 'topic': 'work, new, job'},\n",
    " {'topic_id': 6, 'topic': 'business, small, work'},\n",
    " {'topic_id': 7, 'topic': 'education, student, law'},\n",
    " {'topic_id': 8, 'topic': 'secur, support, israel'},\n",
    " {'topic_id': 9, 'topic': 'right, vote, constitute'},\n",
    " {'topic_id': 10, 'topic': 'new, today, families'},\n",
    " {'topic_id': 11, 'topic': 'security, iraq, people'},\n",
    " {'topic_id': 12, 'topic': 'tax, family, right'},\n",
    " {'topic_id': 13, 'topic': 'right, constitute, individual'},\n",
    " {'topic_id': 14, 'topic': 'govern, program, spend'},\n",
    " {'topic_id': 15, 'topic': 'energies, nation, trade'},\n",
    " {'topic_id': 16, 'topic': 'human, global, nation'},\n",
    " {'topic_id': 17, 'topic': 'veteran, nation, military'},\n",
    " {'topic_id': 18, 'topic': 'security, nation, system'},\n",
    " {'topic_id': 19, 'topic': 'govern, support, care'},\n",
    " {'topic_id': 20, 'topic': 'school, education, student'},\n",
    " {'topic_id': 21, 'topic': 'community, nation, support'},\n",
    " {'topic_id': 22, 'topic': 'security, nation, system'}]"
   ]
  },
  {
   "cell_type": "code",
   "execution_count": 139,
   "metadata": {},
   "outputs": [],
   "source": [
    "topic_df = pd.DataFrame(topic_info)\n",
    "merged = pd.merge(sentiment_scores, topic_df, left_on = 'Topic',right_on = 'topic_id')"
   ]
  },
  {
   "cell_type": "code",
   "execution_count": 175,
   "metadata": {},
   "outputs": [
    {
     "data": {
      "text/html": [
       "<div>\n",
       "<style scoped>\n",
       "    .dataframe tbody tr th:only-of-type {\n",
       "        vertical-align: middle;\n",
       "    }\n",
       "\n",
       "    .dataframe tbody tr th {\n",
       "        vertical-align: top;\n",
       "    }\n",
       "\n",
       "    .dataframe thead th {\n",
       "        text-align: right;\n",
       "    }\n",
       "</style>\n",
       "<table border=\"1\" class=\"dataframe\">\n",
       "  <thead>\n",
       "    <tr style=\"text-align: right;\">\n",
       "      <th></th>\n",
       "      <th>Unnamed: 0</th>\n",
       "      <th>key</th>\n",
       "      <th>countryname</th>\n",
       "      <th>edate</th>\n",
       "      <th>tokenized</th>\n",
       "      <th>key2</th>\n",
       "      <th>partyname</th>\n",
       "    </tr>\n",
       "  </thead>\n",
       "  <tbody>\n",
       "    <tr>\n",
       "      <th>0</th>\n",
       "      <td>0</td>\n",
       "      <td>61320_200811</td>\n",
       "      <td>United States</td>\n",
       "      <td>04/11/2008</td>\n",
       "      <td>preamble</td>\n",
       "      <td>61320_200811_0</td>\n",
       "      <td>Democratic Party</td>\n",
       "    </tr>\n",
       "    <tr>\n",
       "      <th>1</th>\n",
       "      <td>0</td>\n",
       "      <td>61320_200811</td>\n",
       "      <td>United States</td>\n",
       "      <td>04/11/2008</td>\n",
       "      <td>come</td>\n",
       "      <td>61320_200811_0</td>\n",
       "      <td>Democratic Party</td>\n",
       "    </tr>\n",
       "    <tr>\n",
       "      <th>2</th>\n",
       "      <td>0</td>\n",
       "      <td>61320_200811</td>\n",
       "      <td>United States</td>\n",
       "      <td>04/11/2008</td>\n",
       "      <td>together</td>\n",
       "      <td>61320_200811_0</td>\n",
       "      <td>Democratic Party</td>\n",
       "    </tr>\n",
       "    <tr>\n",
       "      <th>3</th>\n",
       "      <td>0</td>\n",
       "      <td>61320_200811</td>\n",
       "      <td>United States</td>\n",
       "      <td>04/11/2008</td>\n",
       "      <td>defining</td>\n",
       "      <td>61320_200811_0</td>\n",
       "      <td>Democratic Party</td>\n",
       "    </tr>\n",
       "    <tr>\n",
       "      <th>4</th>\n",
       "      <td>0</td>\n",
       "      <td>61320_200811</td>\n",
       "      <td>United States</td>\n",
       "      <td>04/11/2008</td>\n",
       "      <td>moment</td>\n",
       "      <td>61320_200811_0</td>\n",
       "      <td>Democratic Party</td>\n",
       "    </tr>\n",
       "    <tr>\n",
       "      <th>...</th>\n",
       "      <td>...</td>\n",
       "      <td>...</td>\n",
       "      <td>...</td>\n",
       "      <td>...</td>\n",
       "      <td>...</td>\n",
       "      <td>...</td>\n",
       "      <td>...</td>\n",
       "    </tr>\n",
       "    <tr>\n",
       "      <th>27825</th>\n",
       "      <td>27</td>\n",
       "      <td>61620_200811</td>\n",
       "      <td>United States</td>\n",
       "      <td>04/11/2008</td>\n",
       "      <td>care</td>\n",
       "      <td>61620_200811_27</td>\n",
       "      <td>Republican Party</td>\n",
       "    </tr>\n",
       "    <tr>\n",
       "      <th>27826</th>\n",
       "      <td>27</td>\n",
       "      <td>61620_200811</td>\n",
       "      <td>United States</td>\n",
       "      <td>04/11/2008</td>\n",
       "      <td>respect</td>\n",
       "      <td>61620_200811_27</td>\n",
       "      <td>Republican Party</td>\n",
       "    </tr>\n",
       "    <tr>\n",
       "      <th>27827</th>\n",
       "      <td>27</td>\n",
       "      <td>61620_200811</td>\n",
       "      <td>United States</td>\n",
       "      <td>04/11/2008</td>\n",
       "      <td>earned</td>\n",
       "      <td>61620_200811_27</td>\n",
       "      <td>Republican Party</td>\n",
       "    </tr>\n",
       "    <tr>\n",
       "      <th>27828</th>\n",
       "      <td>27</td>\n",
       "      <td>61620_200811</td>\n",
       "      <td>United States</td>\n",
       "      <td>04/11/2008</td>\n",
       "      <td>service</td>\n",
       "      <td>61620_200811_27</td>\n",
       "      <td>Republican Party</td>\n",
       "    </tr>\n",
       "    <tr>\n",
       "      <th>27829</th>\n",
       "      <td>27</td>\n",
       "      <td>61620_200811</td>\n",
       "      <td>United States</td>\n",
       "      <td>04/11/2008</td>\n",
       "      <td>america.</td>\n",
       "      <td>61620_200811_27</td>\n",
       "      <td>Republican Party</td>\n",
       "    </tr>\n",
       "  </tbody>\n",
       "</table>\n",
       "<p>27830 rows × 7 columns</p>\n",
       "</div>"
      ],
      "text/plain": [
       "       Unnamed: 0           key    countryname       edate tokenized  \\\n",
       "0               0  61320_200811  United States  04/11/2008  preamble   \n",
       "1               0  61320_200811  United States  04/11/2008      come   \n",
       "2               0  61320_200811  United States  04/11/2008  together   \n",
       "3               0  61320_200811  United States  04/11/2008  defining   \n",
       "4               0  61320_200811  United States  04/11/2008    moment   \n",
       "...           ...           ...            ...         ...       ...   \n",
       "27825          27  61620_200811  United States  04/11/2008      care   \n",
       "27826          27  61620_200811  United States  04/11/2008   respect   \n",
       "27827          27  61620_200811  United States  04/11/2008    earned   \n",
       "27828          27  61620_200811  United States  04/11/2008   service   \n",
       "27829          27  61620_200811  United States  04/11/2008  america.   \n",
       "\n",
       "                  key2         partyname  \n",
       "0       61320_200811_0  Democratic Party  \n",
       "1       61320_200811_0  Democratic Party  \n",
       "2       61320_200811_0  Democratic Party  \n",
       "3       61320_200811_0  Democratic Party  \n",
       "4       61320_200811_0  Democratic Party  \n",
       "...                ...               ...  \n",
       "27825  61620_200811_27  Republican Party  \n",
       "27826  61620_200811_27  Republican Party  \n",
       "27827  61620_200811_27  Republican Party  \n",
       "27828  61620_200811_27  Republican Party  \n",
       "27829  61620_200811_27  Republican Party  \n",
       "\n",
       "[27830 rows x 7 columns]"
      ]
     },
     "execution_count": 175,
     "metadata": {},
     "output_type": "execute_result"
    }
   ],
   "source": [
    "df"
   ]
  },
  {
   "cell_type": "code",
   "execution_count": 181,
   "metadata": {},
   "outputs": [],
   "source": [
    "merged['key3'] = merged['Key2'].apply(lambda x: int(x.split('_')[-1])) \n",
    "\n",
    "merged2 = pd.merge(df,merged, left_on = 'Unnamed: 0',right_on = 'key3')"
   ]
  },
  {
   "cell_type": "code",
   "execution_count": null,
   "metadata": {},
   "outputs": [],
   "source": []
  },
  {
   "cell_type": "code",
   "execution_count": null,
   "metadata": {},
   "outputs": [],
   "source": []
  },
  {
   "cell_type": "code",
   "execution_count": 183,
   "metadata": {},
   "outputs": [],
   "source": [
    "merged2 = merged2[['key2','countryname','edate','partyname','topic','Sentiment Value']].drop_duplicates()"
   ]
  },
  {
   "cell_type": "code",
   "execution_count": 186,
   "metadata": {},
   "outputs": [],
   "source": [
    "ok = merged2[['edate','topic','partyname','Sentiment Value']].sort_values(by = 'Sentiment Value', ascending = False)"
   ]
  },
  {
   "cell_type": "code",
   "execution_count": 189,
   "metadata": {},
   "outputs": [],
   "source": [
    "republican = ok[ok['partyname'] == \"Republican Party\"]\n",
    "democratic = ok[ok['partyname'] == \"Democratic Party\"]"
   ]
  },
  {
   "cell_type": "code",
   "execution_count": 193,
   "metadata": {},
   "outputs": [
    {
     "data": {
      "text/html": [
       "<div>\n",
       "<style scoped>\n",
       "    .dataframe tbody tr th:only-of-type {\n",
       "        vertical-align: middle;\n",
       "    }\n",
       "\n",
       "    .dataframe tbody tr th {\n",
       "        vertical-align: top;\n",
       "    }\n",
       "\n",
       "    .dataframe thead th {\n",
       "        text-align: right;\n",
       "    }\n",
       "</style>\n",
       "<table border=\"1\" class=\"dataframe\">\n",
       "  <thead>\n",
       "    <tr style=\"text-align: right;\">\n",
       "      <th></th>\n",
       "      <th>edate</th>\n",
       "      <th>topic</th>\n",
       "      <th>Sentiment Value</th>\n",
       "    </tr>\n",
       "  </thead>\n",
       "  <tbody>\n",
       "    <tr>\n",
       "      <th>4141</th>\n",
       "      <td>04/11/2008</td>\n",
       "      <td>secur, support, israel</td>\n",
       "      <td>0.047219</td>\n",
       "    </tr>\n",
       "    <tr>\n",
       "      <th>8147</th>\n",
       "      <td>04/11/2008</td>\n",
       "      <td>right, vote, constitute</td>\n",
       "      <td>0.042842</td>\n",
       "    </tr>\n",
       "    <tr>\n",
       "      <th>2942</th>\n",
       "      <td>04/11/2008</td>\n",
       "      <td>nuclear, weapon, security</td>\n",
       "      <td>0.040035</td>\n",
       "    </tr>\n",
       "    <tr>\n",
       "      <th>1234</th>\n",
       "      <td>04/11/2008</td>\n",
       "      <td>tax, family, right</td>\n",
       "      <td>0.038371</td>\n",
       "    </tr>\n",
       "    <tr>\n",
       "      <th>10681</th>\n",
       "      <td>04/11/2008</td>\n",
       "      <td>govern, support, care</td>\n",
       "      <td>0.037287</td>\n",
       "    </tr>\n",
       "    <tr>\n",
       "      <th>5316</th>\n",
       "      <td>04/11/2008</td>\n",
       "      <td>human, global, nation</td>\n",
       "      <td>0.035080</td>\n",
       "    </tr>\n",
       "    <tr>\n",
       "      <th>613</th>\n",
       "      <td>04/11/2008</td>\n",
       "      <td>work, new, job</td>\n",
       "      <td>0.031206</td>\n",
       "    </tr>\n",
       "    <tr>\n",
       "      <th>2113</th>\n",
       "      <td>04/11/2008</td>\n",
       "      <td>security, iraq, people</td>\n",
       "      <td>0.028138</td>\n",
       "    </tr>\n",
       "    <tr>\n",
       "      <th>12209</th>\n",
       "      <td>04/11/2008</td>\n",
       "      <td>school, education, student</td>\n",
       "      <td>0.027365</td>\n",
       "    </tr>\n",
       "    <tr>\n",
       "      <th>0</th>\n",
       "      <td>04/11/2008</td>\n",
       "      <td>new, today, families</td>\n",
       "      <td>0.025764</td>\n",
       "    </tr>\n",
       "    <tr>\n",
       "      <th>9451</th>\n",
       "      <td>04/11/2008</td>\n",
       "      <td>security, nation, system</td>\n",
       "      <td>0.016954</td>\n",
       "    </tr>\n",
       "    <tr>\n",
       "      <th>13636</th>\n",
       "      <td>04/11/2008</td>\n",
       "      <td>community, nation, support</td>\n",
       "      <td>0.016122</td>\n",
       "    </tr>\n",
       "    <tr>\n",
       "      <th>7174</th>\n",
       "      <td>04/11/2008</td>\n",
       "      <td>govern, support, care</td>\n",
       "      <td>0.005892</td>\n",
       "    </tr>\n",
       "    <tr>\n",
       "      <th>6314</th>\n",
       "      <td>04/11/2008</td>\n",
       "      <td>community, nation, support</td>\n",
       "      <td>0.003643</td>\n",
       "    </tr>\n",
       "  </tbody>\n",
       "</table>\n",
       "</div>"
      ],
      "text/plain": [
       "            edate                       topic  Sentiment Value\n",
       "4141   04/11/2008      secur, support, israel         0.047219\n",
       "8147   04/11/2008     right, vote, constitute         0.042842\n",
       "2942   04/11/2008   nuclear, weapon, security         0.040035\n",
       "1234   04/11/2008          tax, family, right         0.038371\n",
       "10681  04/11/2008       govern, support, care         0.037287\n",
       "5316   04/11/2008       human, global, nation         0.035080\n",
       "613    04/11/2008              work, new, job         0.031206\n",
       "2113   04/11/2008      security, iraq, people         0.028138\n",
       "12209  04/11/2008  school, education, student         0.027365\n",
       "0      04/11/2008        new, today, families         0.025764\n",
       "9451   04/11/2008    security, nation, system         0.016954\n",
       "13636  04/11/2008  community, nation, support         0.016122\n",
       "7174   04/11/2008       govern, support, care         0.005892\n",
       "6314   04/11/2008  community, nation, support         0.003643"
      ]
     },
     "execution_count": 193,
     "metadata": {},
     "output_type": "execute_result"
    }
   ],
   "source": [
    "democratic[['edate','topic','Sentiment Value']]"
   ]
  },
  {
   "cell_type": "code",
   "execution_count": null,
   "metadata": {},
   "outputs": [],
   "source": []
  },
  {
   "cell_type": "code",
   "execution_count": null,
   "metadata": {},
   "outputs": [],
   "source": []
  }
 ],
 "metadata": {
  "kernelspec": {
   "display_name": "Python 3",
   "language": "python",
   "name": "python3"
  },
  "language_info": {
   "codemirror_mode": {
    "name": "ipython",
    "version": 3
   },
   "file_extension": ".py",
   "mimetype": "text/x-python",
   "name": "python",
   "nbconvert_exporter": "python",
   "pygments_lexer": "ipython3",
   "version": "3.8.5"
  }
 },
 "nbformat": 4,
 "nbformat_minor": 4
}
